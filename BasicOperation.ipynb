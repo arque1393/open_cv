{
 "cells": [
  {
   "cell_type": "code",
   "execution_count": 1,
   "id": "59e2a68a-ea2c-4306-81ee-eb4f946ea6a1",
   "metadata": {
    "tags": []
   },
   "outputs": [
    {
     "data": {
      "text/plain": [
       "'4.7.0'"
      ]
     },
     "execution_count": 1,
     "metadata": {},
     "output_type": "execute_result"
    }
   ],
   "source": [
    "import cv2 as cv\n",
    "cv.__version__"
   ]
  },
  {
   "cell_type": "code",
   "execution_count": 28,
   "id": "eb639baa-117f-4a0e-a476-d42376a79180",
   "metadata": {},
   "outputs": [
    {
     "data": {
      "text/plain": [
       "True"
      ]
     },
     "execution_count": 28,
     "metadata": {},
     "output_type": "execute_result"
    }
   ],
   "source": [
    "# Reading Writing image and video \n",
    "img = cv.imread('../img.jpg')\n",
    "'''\n",
    "default color mode of imread function is BGR (Flag : cv2.IMREAD_COLOR)\n",
    "Flag 2 : cv2.IMREAD_GRAYSCALE\n",
    "Flag 3 : cv2.IMREAD_UNCHANGED\n",
    "'''\n",
    "cv.imshow(\"Img\", img) \n",
    "cv.waitKey()\n",
    "cv.destroyAllWindows()\n",
    "\n",
    "cv.imwrite(\"img2.jpg\",img)"
   ]
  },
  {
   "cell_type": "code",
   "execution_count": 3,
   "id": "ab087925-1a34-4930-aeda-c55d7f5e1880",
   "metadata": {
    "tags": []
   },
   "outputs": [],
   "source": [
    "cv.destroyAllWindows()"
   ]
  },
  {
   "cell_type": "code",
   "execution_count": 26,
   "id": "91393ff0-2bcf-47cf-8e6d-b21f86e42e3f",
   "metadata": {
    "tags": []
   },
   "outputs": [],
   "source": [
    "# Capture video from camera\n",
    "cap = cv.VideoCapture(0)\n",
    "if (cap.isOpened()):\n",
    "    while (cap.isOpened()):\n",
    "        ret, frame = cap.read()\n",
    "        if ret == True:\n",
    "            cv.imshow(\"NAME\", frame)            \n",
    "            if(cv.waitKey(1)==27):\n",
    "                break\n",
    "cv.destroyAllWindows()  "
   ]
  },
  {
   "cell_type": "code",
   "execution_count": 29,
   "id": "b2dcd621-9313-4022-b8b3-8ef4e9ccc194",
   "metadata": {
    "tags": []
   },
   "outputs": [
    {
     "data": {
      "text/plain": [
       "< cv2.VideoCapture 0x7fe54a1c6ef0>"
      ]
     },
     "execution_count": 29,
     "metadata": {},
     "output_type": "execute_result"
    }
   ],
   "source": [
    "\n"
   ]
  },
  {
   "cell_type": "code",
   "execution_count": null,
   "id": "ca6790d7-4266-4b2a-8f56-bbdda540c2c3",
   "metadata": {},
   "outputs": [],
   "source": []
  }
 ],
 "metadata": {
  "kernelspec": {
   "display_name": "Python 3 (ipykernel)",
   "language": "python",
   "name": "python3"
  },
  "language_info": {
   "codemirror_mode": {
    "name": "ipython",
    "version": 3
   },
   "file_extension": ".py",
   "mimetype": "text/x-python",
   "name": "python",
   "nbconvert_exporter": "python",
   "pygments_lexer": "ipython3",
   "version": "3.10.9"
  }
 },
 "nbformat": 4,
 "nbformat_minor": 5
}
